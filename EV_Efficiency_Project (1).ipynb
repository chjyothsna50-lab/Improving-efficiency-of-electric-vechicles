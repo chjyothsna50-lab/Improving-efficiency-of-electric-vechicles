{
 "cells": [
  {
   "cell_type": "markdown",
   "id": "ed11fe5f",
   "metadata": {},
   "source": [
    "#  Improving Efficiency for Electric Vehicles\n",
    "This notebook explores EV efficiency using a sample dataset. Steps include:\n",
    "1. Define the problem\n",
    "2. Data collection & understanding\n",
    "3. Data preprocessing\n",
    "4. Data splitting"
   ]
  },
  {
   "cell_type": "markdown",
   "id": "381f505e",
   "metadata": {},
   "source": [
    "## 1. Define the Problem\n",
    "Electric vehicles (EVs) are becoming popular due to sustainability, but efficiency depends on factors like battery capacity, range, and energy consumption. \n",
    "\n",
    "**Problem Statement:** How can we analyze EV data to understand factors affecting range and efficiency, and prepare the dataset for predictive modeling?"
   ]
  },
  {
   "cell_type": "markdown",
   "id": "cf456d3b",
   "metadata": {},
   "source": [
    "## 2. Data Collection & Understanding"
   ]
  },
  {
   "cell_type": "code",
   "execution_count": null,
   "id": "9ab192ac",
   "metadata": {},
   "outputs": [],
   "source": [
    "\n",
    "import pandas as pd\n",
    "import numpy as np\n",
    "\n",
    "# Sample dataset (can be replaced with a real dataset later)\n",
    "data = {\n",
    "    \"Make\": [\"Tesla\", \"Nissan\", \"BMW\", \"Hyundai\", \"Tata\", \"Mahindra\", \"MG\", \"Kia\", \"Audi\", \"Mercedes\"],\n",
    "    \"Model\": [\"Model 3\", \"Leaf\", \"i3\", \"Kona\", \"Nexon\", \"eVerito\", \"ZS EV\", \"EV6\", \"e-tron\", \"EQC\"],\n",
    "    \"Battery_Capacity_kWh\": [60, 40, 42, 64, 30.2, 21.2, 44.5, 77.4, 95, 80],\n",
    "    \"Range_km\": [450, 240, 260, 452, 312, 181, 340, 528, 436, 414],\n",
    "    \"Energy_Consumption_WhPerKm\": [133, 166, 161, 141, 193, 210, 152, 147, 218, 193],\n",
    "    \"Fast_Charging\": [1, 0, 1, 1, 1, 0, 1, 1, 1, 1]\n",
    "}\n",
    "\n",
    "df = pd.DataFrame(data)\n",
    "df.head()\n"
   ]
  },
  {
   "cell_type": "code",
   "execution_count": null,
   "id": "7258a30a",
   "metadata": {},
   "outputs": [],
   "source": [
    "\n",
    "# Dataset Info\n",
    "df.info()\n"
   ]
  },
  {
   "cell_type": "code",
   "execution_count": null,
   "id": "d6a789d8",
   "metadata": {},
   "outputs": [],
   "source": [
    "\n",
    "# Summary Statistics\n",
    "df.describe()\n"
   ]
  },
  {
   "cell_type": "markdown",
   "id": "9343f1dc",
   "metadata": {},
   "source": [
    "### 🔍 Visualization"
   ]
  },
  {
   "cell_type": "code",
   "execution_count": null,
   "id": "63ba57e5",
   "metadata": {},
   "outputs": [],
   "source": [
    "\n",
    "import matplotlib.pyplot as plt\n",
    "import seaborn as sns\n",
    "\n",
    "plt.figure(figsize=(8,6))\n",
    "sns.scatterplot(x=\"Battery_Capacity_kWh\", y=\"Range_km\", hue=\"Make\", data=df, s=100)\n",
    "plt.title(\"Battery Capacity vs Range (EV Efficiency)\")\n",
    "plt.xlabel(\"Battery Capacity (kWh)\")\n",
    "plt.ylabel(\"Range (km)\")\n",
    "plt.show()\n"
   ]
  },
  {
   "cell_type": "markdown",
   "id": "ade67ef0",
   "metadata": {},
   "source": [
    "## 3. Data Preprocessing"
   ]
  },
  {
   "cell_type": "code",
   "execution_count": null,
   "id": "368de86f",
   "metadata": {},
   "outputs": [],
   "source": [
    "\n",
    "# Encoding categorical variables\n",
    "df_encoded = pd.get_dummies(df, columns=[\"Make\", \"Model\"], drop_first=True)\n",
    "\n",
    "# Check processed dataset\n",
    "df_encoded.head()\n"
   ]
  },
  {
   "cell_type": "markdown",
   "id": "39e548d7",
   "metadata": {},
   "source": [
    "## 4. Data Splitting"
   ]
  },
  {
   "cell_type": "code",
   "execution_count": null,
   "id": "fc1e7650",
   "metadata": {},
   "outputs": [],
   "source": [
    "\n",
    "from sklearn.model_selection import train_test_split\n",
    "\n",
    "# Features and Target\n",
    "X = df_encoded.drop(\"Range_km\", axis=1)\n",
    "y = df_encoded[\"Range_km\"]\n",
    "\n",
    "# Train-Test Split\n",
    "X_train, X_test, y_train, y_test = train_test_split(X, y, test_size=0.2, random_state=42)\n",
    "\n",
    "X_train.shape, X_test.shape\n"
   ]
  }
 ],
 "metadata": {
  "language_info": {
   "name": "python"
  }
 },
 "nbformat": 4,
 "nbformat_minor": 5
}
